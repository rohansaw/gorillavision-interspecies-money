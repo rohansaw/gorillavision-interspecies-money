{
 "cells": [
  {
   "cell_type": "code",
   "execution_count": null,
   "metadata": {},
   "outputs": [],
   "source": [
    "%pip install plotly ipywidgets numpy pandas scikit-learn umap-learn\n",
    "from ipywidgets import HTML, VBox\n",
    "from plotly import graph_objects as go\n",
    "import plotly.express as px\n",
    "import numpy as np\n",
    "import pandas as pd\n",
    "from sklearn.manifold import TSNE\n",
    "from umap import UMAP\n",
    "from dash import Dash, dcc, html, Input, Output, no_update\n",
    "import plotly.graph_objects as go\n",
    "import pandas as pd\n",
    "\n",
    "\n"
   ]
  },
  {
   "cell_type": "code",
   "execution_count": null,
   "metadata": {},
   "outputs": [],
   "source": [
    "labels = np.load('/Users/lukaslaskowski/Documents/HPI/gorillavision/crops_and_embeddings/kwitonda_portraits/embeddings/individual_ids.npy')\n",
    "embeddings = np.load('/Users/lukaslaskowski/Documents/HPI/gorillavision/crops_and_embeddings/kwitonda_portraits/embeddings/embeddings.npy')\n",
    "file_names = np.load('/Users/lukaslaskowski/Documents/HPI/gorillavision/crops_and_embeddings/kwitonda_portraits/embeddings/file_names.npy')\n",
    "df = pd.DataFrame({\"embeddings\": embeddings.tolist(), \"labels\": labels, \"file_names\": file_names})"
   ]
  },
  {
   "cell_type": "code",
   "execution_count": null,
   "metadata": {},
   "outputs": [],
   "source": [
    "\n",
    "\n",
    "umap_2d = UMAP(n_components=2, init='random', random_state=0)\n",
    "proj_2d = umap_2d.fit_transform(df[\"embeddings\"].tolist())\n",
    "fig_2d = px.scatter(\n",
    "    proj_2d, x=0, y=1,\n",
    "    color=df.file_names, labels={'color': 'file_names'}\n",
    ")\n",
    "fig_2d.show()"
   ]
  },
  {
   "cell_type": "code",
   "execution_count": null,
   "metadata": {},
   "outputs": [],
   "source": []
  }
 ],
 "metadata": {
  "kernelspec": {
   "display_name": "py39",
   "language": "python",
   "name": "python3"
  },
  "language_info": {
   "codemirror_mode": {
    "name": "ipython",
    "version": 3
   },
   "file_extension": ".py",
   "mimetype": "text/x-python",
   "name": "python",
   "nbconvert_exporter": "python",
   "pygments_lexer": "ipython3",
   "version": "3.9.16"
  }
 },
 "nbformat": 4,
 "nbformat_minor": 2
}
