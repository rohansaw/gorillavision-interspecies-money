{
 "cells": [
  {
   "cell_type": "code",
   "execution_count": null,
   "metadata": {},
   "outputs": [],
   "source": [
    "import umap\n",
    "import numpy as np\n",
    "import umap.plot\n",
    "labels = np.load('./test/labels.npy')\n",
    "embeddings = np.load('./test/embeddings.npy')\n",
    "mapper = umap.UMAP().fit(embeddings)\n",
    "umap.plot.points(mapper, labels=labels)"
   ]
  }
 ],
 "metadata": {
  "language_info": {
   "name": "python"
  },
  "orig_nbformat": 4
 },
 "nbformat": 4,
 "nbformat_minor": 2
}
