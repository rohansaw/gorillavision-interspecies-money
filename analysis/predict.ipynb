{
 "cells": [
  {
   "cell_type": "code",
   "execution_count": 71,
   "metadata": {},
   "outputs": [
    {
     "name": "stdout",
     "output_type": "stream",
     "text": [
      "(1731, 1536)\n",
      "(1731,)\n",
      "20\n",
      "[('KAV', 376), ('MBI', 241), ('NTI', 130), ('INO', 124), ('RWU', 107), ('SUL', 98), ('KHA', 92), ('IZO', 82), ('ICM', 76), ('REM', 65), ('KAT', 60), ('KBU', 58), ('NRJ', 50), ('CYU', 50), ('GAH', 49), ('WIG', 45), ('NAN', 21), ('NOT VISIBLE', 4), ('IKR', 2), ('ELEPHANT', 1)]\n"
     ]
    }
   ],
   "source": [
    "from sklearn.neighbors import KNeighborsClassifier\n",
    "\n",
    "import numpy as np\n",
    "\n",
    "# import warnings filter\n",
    "from warnings import simplefilter\n",
    "# ignore all future warnings\n",
    "simplefilter(action='ignore', category=FutureWarning)\n",
    "\n",
    "path = '/workspace/data/crops_and_embeddings/kwitonda_portraits/embeddings'\n",
    "\n",
    "embeddings = np.load(f'{path}/embeddings_dino.npy')\n",
    "labels = np.load(f'{path}/individual_ids.npy')\n",
    "\n",
    "assert len(embeddings) == len(labels)\n",
    "\n",
    "print(embeddings.shape)\n",
    "print(labels.shape)\n",
    "\n",
    "print(len(set(labels)))\n",
    "\n",
    "from collections import Counter\n",
    "\n",
    "counter = Counter(labels)\n",
    "print(counter.most_common())"
   ]
  },
  {
   "cell_type": "code",
   "execution_count": 72,
   "metadata": {},
   "outputs": [
    {
     "name": "stdout",
     "output_type": "stream",
     "text": [
      "Calculating metrics on 1731 samples from 20 individuals with 1731 samples in total.\n",
      "0.9641825534373195\n",
      "Calculating metrics on 1724 samples from 17 individuals with 1731 samples in total.\n",
      "0.9624494511842865\n"
     ]
    }
   ],
   "source": [
    "def predict_one(embeddings, labels, test_idx, k=5):\n",
    "    train_idx = [i for i in range(len(embeddings)) if i != test_idx]\n",
    "    train_embeddings = embeddings[train_idx]\n",
    "    train_labels = labels[train_idx]\n",
    "\n",
    "    test_embedding = embeddings[test_idx]\n",
    "\n",
    "    knn = KNeighborsClassifier(n_neighbors=k)\n",
    "    knn.fit(train_embeddings, train_labels)\n",
    "\n",
    "    return knn.predict([test_embedding])[0], labels[test_idx]\n",
    "\n",
    "# predict_one(embeddings, labels, 3)\n",
    "\n",
    "# Calculate precision, recall, f1\n",
    "\n",
    "def calculate_metrics(embeddings, labels, min_samples=5, k=2):\n",
    "    # only predicting on individuals with at least min_samples\n",
    "    unique_labels, counts = np.unique(labels, return_counts=True)\n",
    "    unique_labels = unique_labels[counts >= min_samples]\n",
    "    \n",
    "    mask = np.isin(labels, unique_labels)\n",
    "    # embeddings = embeddings[mask]\n",
    "    # labels = labels[mask]\n",
    "    \n",
    "    idx = [i for i in range(len(embeddings)) if labels[i] in unique_labels]\n",
    "    \n",
    "    print(f'Calculating metrics on {len(idx)} samples from {len(unique_labels)} individuals with {len(embeddings)} samples in total.')\n",
    "    \n",
    "    predictions = [predict_one(embeddings, labels, i, k=k) for i in idx]\n",
    "    predictions = np.array(predictions)\n",
    "    \n",
    "    tp = np.sum(predictions[:, 0] == predictions[:, 1])\n",
    "    \n",
    "    average_precision =  tp / len(embeddings)\n",
    "    \n",
    "    return average_precision\n",
    " \n",
    "\n",
    "print(calculate_metrics(embeddings, labels, min_samples=1, k=3))\n",
    "print(calculate_metrics(embeddings, labels, min_samples=5, k=3))"
   ]
  },
  {
   "cell_type": "code",
   "execution_count": null,
   "metadata": {},
   "outputs": [],
   "source": [
    "Calculating metrics on 138 samples from 22 individuals with 138 samples in total.\n",
    "0.36231884057971014\n",
    "Calculating metrics on 119 samples from 10 individuals with 138 samples in total.\n",
    "0.36231884057971014"
   ]
  }
 ],
 "metadata": {
  "kernelspec": {
   "display_name": "base",
   "language": "python",
   "name": "python3"
  },
  "language_info": {
   "codemirror_mode": {
    "name": "ipython",
    "version": 3
   },
   "file_extension": ".py",
   "mimetype": "text/x-python",
   "name": "python",
   "nbconvert_exporter": "python",
   "pygments_lexer": "ipython3",
   "version": "3.8.12"
  }
 },
 "nbformat": 4,
 "nbformat_minor": 2
}
