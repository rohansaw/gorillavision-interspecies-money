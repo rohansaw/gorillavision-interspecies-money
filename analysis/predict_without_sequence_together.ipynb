{
 "cells": [
  {
   "cell_type": "code",
   "execution_count": 3,
   "metadata": {},
   "outputs": [
    {
     "name": "stdout",
     "output_type": "stream",
     "text": [
      "(1983, 256)\n",
      "(1983,)\n"
     ]
    }
   ],
   "source": [
    "from sklearn.neighbors import KNeighborsClassifier\n",
    "\n",
    "import numpy as np\n",
    "import os.path\n",
    "\n",
    "# import warnings filter\n",
    "from warnings import simplefilter\n",
    "# ignore all future warnings\n",
    "simplefilter(action='ignore', category=FutureWarning)\n",
    "\n",
    "\n",
    "suffix = ''\n",
    "\n",
    "all_embeddings = []\n",
    "all_labels = []\n",
    "all_sequences = []\n",
    "\n",
    "for database in ['kwitonda_portraits', 'martha_bwindi', 'martha_loango']:\n",
    "    path = f'/workspace/data/crops_and_embeddings/{database}/embeddings'\n",
    "\n",
    "    embeddings = np.load(f'{path}/embeddings{suffix}.npy')\n",
    "    labels = np.load(f'{path}/individual_ids.npy')\n",
    "    if os.path.exists(f'{path}/sequence_ids.npy'):\n",
    "        sequences = np.load(f'{path}/sequence_ids.npy')\n",
    "    else:\n",
    "        sequences = np.load(f'{path}/file_names.npy')\n",
    "\n",
    "    all_embeddings.append(embeddings)\n",
    "    all_labels.append(labels)\n",
    "    all_sequences.append(sequences)\n",
    "\n",
    "embeddings = np.concatenate(all_embeddings)\n",
    "labels = np.concatenate(all_labels)\n",
    "sequences = np.concatenate(all_sequences)\n",
    "\n",
    "\n",
    "assert len(embeddings) == len(labels) and len(embeddings) == len(sequences)\n",
    "\n",
    "print(embeddings.shape)\n",
    "print(labels.shape)"
   ]
  },
  {
   "cell_type": "code",
   "execution_count": 4,
   "metadata": {},
   "outputs": [
    {
     "name": "stdout",
     "output_type": "stream",
     "text": [
      "Calculating metrics on 1983 samples from 91 individuals with 1983 samples in total.\n",
      "0.24659606656580937\n",
      "Calculating metrics on 1884 samples from 34 individuals with 1983 samples in total.\n",
      "0.24407463439233484\n"
     ]
    }
   ],
   "source": [
    "def predict_one(embeddings, labels, sequence_ids, test_idx, k=5):\n",
    "    test_sequence = sequence_ids[test_idx]\n",
    "    train_idx = [i for i in range(len(embeddings)) if i != test_idx and sequence_ids[i] != test_sequence]\n",
    "    \n",
    "    train_embeddings = embeddings[train_idx]\n",
    "    train_labels = labels[train_idx]\n",
    "\n",
    "\n",
    "    test_embedding = embeddings[test_idx]\n",
    "\n",
    "    knn = KNeighborsClassifier(n_neighbors=k)\n",
    "    knn.fit(train_embeddings, train_labels)\n",
    "\n",
    "    return knn.predict([test_embedding])[0], labels[test_idx]\n",
    "\n",
    "# predict_one(embeddings, labels, 3)\n",
    "\n",
    "# Calculate precision, recall, f1\n",
    "\n",
    "def calculate_metrics(embeddings, labels, sequence_ids, min_samples=5, k=2):\n",
    "    # only predicting on individuals with at least min_samples\n",
    "    unique_labels, counts = np.unique(labels, return_counts=True)\n",
    "    unique_labels = unique_labels[counts >= min_samples]\n",
    "    \n",
    "    mask = np.isin(labels, unique_labels)\n",
    "    # embeddings = embeddings[mask]\n",
    "    # labels = labels[mask]\n",
    "    \n",
    "    idx = [i for i in range(len(embeddings)) if labels[i] in unique_labels]\n",
    "    \n",
    "    print(f'Calculating metrics on {len(idx)} samples from {len(unique_labels)} individuals with {len(embeddings)} samples in total.')\n",
    "    \n",
    "    predictions = [predict_one(embeddings, labels, sequence_ids, i, k=k) for i in idx]\n",
    "    predictions = np.array(predictions)\n",
    "    \n",
    "    tp = np.sum(predictions[:, 0] == predictions[:, 1])\n",
    "    \n",
    "    average_precision =  tp / len(embeddings)\n",
    "    \n",
    "    return average_precision\n",
    " \n",
    "\n",
    "print(calculate_metrics(embeddings, labels, sequences, min_samples=1, k=3))\n",
    "print(calculate_metrics(embeddings, labels, sequences, min_samples=5, k=3))"
   ]
  },
  {
   "cell_type": "code",
   "execution_count": null,
   "metadata": {},
   "outputs": [],
   "source": []
  },
  {
   "cell_type": "code",
   "execution_count": null,
   "metadata": {},
   "outputs": [],
   "source": []
  }
 ],
 "metadata": {
  "kernelspec": {
   "display_name": "base",
   "language": "python",
   "name": "python3"
  },
  "language_info": {
   "codemirror_mode": {
    "name": "ipython",
    "version": 3
   },
   "file_extension": ".py",
   "mimetype": "text/x-python",
   "name": "python",
   "nbconvert_exporter": "python",
   "pygments_lexer": "ipython3",
   "version": "3.8.12"
  }
 },
 "nbformat": 4,
 "nbformat_minor": 2
}
