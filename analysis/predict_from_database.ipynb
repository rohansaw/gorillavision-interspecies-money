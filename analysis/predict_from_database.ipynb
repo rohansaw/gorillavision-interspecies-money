{
 "cells": [
  {
   "cell_type": "code",
   "execution_count": 11,
   "metadata": {},
   "outputs": [
    {
     "name": "stdout",
     "output_type": "stream",
     "text": [
      "(5737, 256)\n",
      "(5737,)\n"
     ]
    }
   ],
   "source": [
    "from sklearn.neighbors import KNeighborsClassifier\n",
    "\n",
    "import numpy as np\n",
    "\n",
    "# import warnings filter\n",
    "from warnings import simplefilter\n",
    "# ignore all future warnings\n",
    "simplefilter(action='ignore', category=FutureWarning)\n",
    "\n",
    "database_path = '/workspace/data/crops_and_embeddings/kwitonda_portraits/embeddings'\n",
    "database_embeddings = np.load(f'{database_path}/embeddings.npy')\n",
    "database_labels = np.load(f'{database_path}/individual_ids.npy')\n",
    "\n",
    "path = '/workspace/data/crops_and_embeddings/cameratrap_02_2024/embeddings'\n",
    "\n",
    "embeddings = np.load(f'{path}/embeddings.npy')\n",
    "sequence_ids = np.load(f'{path}/sequence_ids.npy')\n",
    "labels = np.load(f'{path}/individual_ids.npy')\n",
    "\n",
    "\n",
    "\n",
    "assert len(embeddings) == len(labels)\n",
    "\n",
    "print(embeddings.shape)\n",
    "print(labels.shape)"
   ]
  },
  {
   "cell_type": "code",
   "execution_count": 12,
   "metadata": {},
   "outputs": [
    {
     "name": "stdout",
     "output_type": "stream",
     "text": [
      "Calculating metrics on 5737 samples from 15 individuals with 5737 samples in total.\n",
      "0.0827958863517518\n",
      "Calculating metrics on 5734 samples from 14 individuals with 5737 samples in total.\n",
      "0.10231828481784905\n"
     ]
    }
   ],
   "source": [
    "def predict_one(embeddings, labels, database_embeddings, database_labels, test_idx, k=5):\n",
    "    train_idx = [i for i in range(len(embeddings)) if i != test_idx]\n",
    "    train_embeddings = database_embeddings\n",
    "    train_labels = database_labels\n",
    "\n",
    "    test_embedding = embeddings[test_idx]\n",
    "\n",
    "    knn = KNeighborsClassifier(n_neighbors=k)\n",
    "    knn.fit(train_embeddings, train_labels)\n",
    "\n",
    "    return knn.predict([test_embedding])[0], labels[test_idx]\n",
    "\n",
    "# predict_one(embeddings, labels, 3)\n",
    "\n",
    "# Calculate precision, recall, f1\n",
    "\n",
    "def calculate_metrics(embeddings, labels, database_embeddings, database_labels, min_samples=5, k=2):\n",
    "    # only predicting on individuals with at least min_samples\n",
    "    unique_labels, counts = np.unique(labels, return_counts=True)\n",
    "    unique_labels = unique_labels[counts >= min_samples]\n",
    "    \n",
    "    mask = np.isin(labels, unique_labels)\n",
    "    # embeddings = embeddings[mask]\n",
    "    # labels = labels[mask]\n",
    "    \n",
    "    idx = [i for i in range(len(embeddings)) if labels[i] in unique_labels]\n",
    "    \n",
    "    print(f'Calculating metrics on {len(idx)} samples from {len(unique_labels)} individuals with {len(embeddings)} samples in total.')\n",
    "    \n",
    "    predictions = [predict_one(embeddings, labels, database_embeddings, database_labels, i, k=k) for i in idx]\n",
    "    predictions = np.array(predictions)\n",
    "    \n",
    "    tp = np.sum(predictions[:, 0] == predictions[:, 1])\n",
    "    \n",
    "    average_precision =  tp / len(embeddings)\n",
    "    \n",
    "    return average_precision\n",
    " \n",
    "\n",
    "print(calculate_metrics(embeddings, labels, database_embeddings, database_labels, min_samples=1, k=1))\n",
    "print(calculate_metrics(embeddings, labels, database_embeddings, database_labels, min_samples=5, k=3))"
   ]
  },
  {
   "cell_type": "code",
   "execution_count": null,
   "metadata": {},
   "outputs": [],
   "source": []
  }
 ],
 "metadata": {
  "kernelspec": {
   "display_name": "base",
   "language": "python",
   "name": "python3"
  },
  "language_info": {
   "codemirror_mode": {
    "name": "ipython",
    "version": 3
   },
   "file_extension": ".py",
   "mimetype": "text/x-python",
   "name": "python",
   "nbconvert_exporter": "python",
   "pygments_lexer": "ipython3",
   "version": "3.8.12"
  }
 },
 "nbformat": 4,
 "nbformat_minor": 2
}
